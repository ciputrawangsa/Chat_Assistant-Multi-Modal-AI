{
 "cells": [
  {
   "cell_type": "code",
   "execution_count": 2,
   "metadata": {},
   "outputs": [],
   "source": [
    "import pandas as pd"
   ]
  },
  {
   "cell_type": "code",
   "execution_count": 3,
   "metadata": {},
   "outputs": [],
   "source": [
    "df = pd.read_csv('tes.csv')"
   ]
  },
  {
   "cell_type": "code",
   "execution_count": 4,
   "metadata": {},
   "outputs": [
    {
     "data": {
      "text/html": [
       "<div>\n",
       "<style scoped>\n",
       "    .dataframe tbody tr th:only-of-type {\n",
       "        vertical-align: middle;\n",
       "    }\n",
       "\n",
       "    .dataframe tbody tr th {\n",
       "        vertical-align: top;\n",
       "    }\n",
       "\n",
       "    .dataframe thead th {\n",
       "        text-align: right;\n",
       "    }\n",
       "</style>\n",
       "<table border=\"1\" class=\"dataframe\">\n",
       "  <thead>\n",
       "    <tr style=\"text-align: right;\">\n",
       "      <th></th>\n",
       "      <th>Nama Produk</th>\n",
       "      <th>Harga Produk</th>\n",
       "      <th>Lokasi Toko</th>\n",
       "      <th>Link Produk</th>\n",
       "      <th>Foto Produk</th>\n",
       "    </tr>\n",
       "  </thead>\n",
       "  <tbody>\n",
       "    <tr>\n",
       "      <th>0</th>\n",
       "      <td>JET CLEANER SENJUTSU SJC 100 A MESIN STEAM CUC...</td>\n",
       "      <td>Rp585.000</td>\n",
       "      <td>Jakarta Barat</td>\n",
       "      <td>https://ta.tokopedia.com/promo/v1/clicks/8a-xg...</td>\n",
       "      <td>https://images.tokopedia.net/img/cache/200-squ...</td>\n",
       "    </tr>\n",
       "    <tr>\n",
       "      <th>1</th>\n",
       "      <td>Jepit Capit Sampah 86cm Alat Penjepit Barang S...</td>\n",
       "      <td>Rp85.000</td>\n",
       "      <td>Tangerang</td>\n",
       "      <td>https://ta.tokopedia.com/promo/v1/clicks/8a-xg...</td>\n",
       "      <td>https://images.tokopedia.net/img/cache/200-squ...</td>\n",
       "    </tr>\n",
       "    <tr>\n",
       "      <th>2</th>\n",
       "      <td>Handuk tangan/ face towel kain lap tangan 30 x...</td>\n",
       "      <td>Rp18.990</td>\n",
       "      <td>Jakarta Barat</td>\n",
       "      <td>https://ta.tokopedia.com/promo/v1/clicks/8a-xg...</td>\n",
       "      <td>https://images.tokopedia.net/img/cache/200-squ...</td>\n",
       "    </tr>\n",
       "    <tr>\n",
       "      <th>3</th>\n",
       "      <td>Kleaner Serokan Air Karet 40 cm Pembersih Lant...</td>\n",
       "      <td>Rp46.500</td>\n",
       "      <td>Surabaya</td>\n",
       "      <td>https://ta.tokopedia.com/promo/v1/clicks/8a-xg...</td>\n",
       "      <td>https://images.tokopedia.net/img/cache/200-squ...</td>\n",
       "    </tr>\n",
       "    <tr>\n",
       "      <th>4</th>\n",
       "      <td>Jet Cleaner Diesel High Pressure Washer Machin...</td>\n",
       "      <td>Rp8.850.000</td>\n",
       "      <td>Tangerang</td>\n",
       "      <td>https://ta.tokopedia.com/promo/v1/clicks/8a-xg...</td>\n",
       "      <td>https://images.tokopedia.net/img/cache/200-squ...</td>\n",
       "    </tr>\n",
       "    <tr>\n",
       "      <th>...</th>\n",
       "      <td>...</td>\n",
       "      <td>...</td>\n",
       "      <td>...</td>\n",
       "      <td>...</td>\n",
       "      <td>...</td>\n",
       "    </tr>\n",
       "    <tr>\n",
       "      <th>5930</th>\n",
       "      <td>Stik Ekstensi 30° Panjang 35 cm Uk. 1/4 Jet Cl...</td>\n",
       "      <td>Rp80.000</td>\n",
       "      <td>Kab. Purwakarta</td>\n",
       "      <td>https://www.tokopedia.com/swarnasentosa/stik-e...</td>\n",
       "      <td>https://images.tokopedia.net/img/cache/200-squ...</td>\n",
       "    </tr>\n",
       "    <tr>\n",
       "      <th>5931</th>\n",
       "      <td>sapu nagata 0717 gagang panjang</td>\n",
       "      <td>Rp28.000</td>\n",
       "      <td>Tangerang</td>\n",
       "      <td>https://www.tokopedia.com/yunov/sapu-nagata-07...</td>\n",
       "      <td>https://images.tokopedia.net/img/cache/200-squ...</td>\n",
       "    </tr>\n",
       "    <tr>\n",
       "      <th>5932</th>\n",
       "      <td>Pel Nagata Microfiber NGT 5830 kain pel nagata...</td>\n",
       "      <td>Rp53.900</td>\n",
       "      <td>Bekasi</td>\n",
       "      <td>https://www.tokopedia.com/rajaplastik11/pel-na...</td>\n",
       "      <td>https://images.tokopedia.net/img/cache/200-squ...</td>\n",
       "    </tr>\n",
       "    <tr>\n",
       "      <th>5933</th>\n",
       "      <td>Selang Teflon Tahan Panas Foodgrade PTFE Tubin...</td>\n",
       "      <td>Rp33.730</td>\n",
       "      <td>Jakarta Barat</td>\n",
       "      <td>https://www.tokopedia.com/mitradistributorutam...</td>\n",
       "      <td>https://images.tokopedia.net/img/cache/200-squ...</td>\n",
       "    </tr>\n",
       "    <tr>\n",
       "      <th>5934</th>\n",
       "      <td>NOZZLE / KRAN CUCI AC BENGKOK JET CLEANER LAGU...</td>\n",
       "      <td>Rp115.000</td>\n",
       "      <td>Tangerang</td>\n",
       "      <td>https://www.tokopedia.com/isquare/nozzle-kran-...</td>\n",
       "      <td>https://images.tokopedia.net/img/cache/200-squ...</td>\n",
       "    </tr>\n",
       "  </tbody>\n",
       "</table>\n",
       "<p>5935 rows × 5 columns</p>\n",
       "</div>"
      ],
      "text/plain": [
       "                                            Nama Produk Harga Produk  \\\n",
       "0     JET CLEANER SENJUTSU SJC 100 A MESIN STEAM CUC...    Rp585.000   \n",
       "1     Jepit Capit Sampah 86cm Alat Penjepit Barang S...     Rp85.000   \n",
       "2     Handuk tangan/ face towel kain lap tangan 30 x...     Rp18.990   \n",
       "3     Kleaner Serokan Air Karet 40 cm Pembersih Lant...     Rp46.500   \n",
       "4     Jet Cleaner Diesel High Pressure Washer Machin...  Rp8.850.000   \n",
       "...                                                 ...          ...   \n",
       "5930  Stik Ekstensi 30° Panjang 35 cm Uk. 1/4 Jet Cl...     Rp80.000   \n",
       "5931                    sapu nagata 0717 gagang panjang     Rp28.000   \n",
       "5932  Pel Nagata Microfiber NGT 5830 kain pel nagata...     Rp53.900   \n",
       "5933  Selang Teflon Tahan Panas Foodgrade PTFE Tubin...     Rp33.730   \n",
       "5934  NOZZLE / KRAN CUCI AC BENGKOK JET CLEANER LAGU...    Rp115.000   \n",
       "\n",
       "          Lokasi Toko                                        Link Produk  \\\n",
       "0       Jakarta Barat  https://ta.tokopedia.com/promo/v1/clicks/8a-xg...   \n",
       "1           Tangerang  https://ta.tokopedia.com/promo/v1/clicks/8a-xg...   \n",
       "2       Jakarta Barat  https://ta.tokopedia.com/promo/v1/clicks/8a-xg...   \n",
       "3            Surabaya  https://ta.tokopedia.com/promo/v1/clicks/8a-xg...   \n",
       "4           Tangerang  https://ta.tokopedia.com/promo/v1/clicks/8a-xg...   \n",
       "...               ...                                                ...   \n",
       "5930  Kab. Purwakarta  https://www.tokopedia.com/swarnasentosa/stik-e...   \n",
       "5931        Tangerang  https://www.tokopedia.com/yunov/sapu-nagata-07...   \n",
       "5932           Bekasi  https://www.tokopedia.com/rajaplastik11/pel-na...   \n",
       "5933    Jakarta Barat  https://www.tokopedia.com/mitradistributorutam...   \n",
       "5934        Tangerang  https://www.tokopedia.com/isquare/nozzle-kran-...   \n",
       "\n",
       "                                            Foto Produk  \n",
       "0     https://images.tokopedia.net/img/cache/200-squ...  \n",
       "1     https://images.tokopedia.net/img/cache/200-squ...  \n",
       "2     https://images.tokopedia.net/img/cache/200-squ...  \n",
       "3     https://images.tokopedia.net/img/cache/200-squ...  \n",
       "4     https://images.tokopedia.net/img/cache/200-squ...  \n",
       "...                                                 ...  \n",
       "5930  https://images.tokopedia.net/img/cache/200-squ...  \n",
       "5931  https://images.tokopedia.net/img/cache/200-squ...  \n",
       "5932  https://images.tokopedia.net/img/cache/200-squ...  \n",
       "5933  https://images.tokopedia.net/img/cache/200-squ...  \n",
       "5934  https://images.tokopedia.net/img/cache/200-squ...  \n",
       "\n",
       "[5935 rows x 5 columns]"
      ]
     },
     "execution_count": 4,
     "metadata": {},
     "output_type": "execute_result"
    }
   ],
   "source": [
    "df"
   ]
  },
  {
   "cell_type": "code",
   "execution_count": 5,
   "metadata": {},
   "outputs": [
    {
     "name": "stdout",
     "output_type": "stream",
     "text": [
      "<class 'pandas.core.frame.DataFrame'>\n",
      "RangeIndex: 5935 entries, 0 to 5934\n",
      "Data columns (total 5 columns):\n",
      " #   Column        Non-Null Count  Dtype \n",
      "---  ------        --------------  ----- \n",
      " 0   Nama Produk   5935 non-null   object\n",
      " 1   Harga Produk  5935 non-null   object\n",
      " 2   Lokasi Toko   5935 non-null   object\n",
      " 3   Link Produk   5935 non-null   object\n",
      " 4   Foto Produk   4595 non-null   object\n",
      "dtypes: object(5)\n",
      "memory usage: 232.0+ KB\n"
     ]
    }
   ],
   "source": [
    "df.info()"
   ]
  },
  {
   "cell_type": "code",
   "execution_count": 6,
   "metadata": {},
   "outputs": [],
   "source": [
    "df['Harga Produk'] = df['Harga Produk'].str.replace(\"Rp\", \"\")"
   ]
  },
  {
   "cell_type": "code",
   "execution_count": 7,
   "metadata": {},
   "outputs": [],
   "source": [
    "df['Harga Produk'] = df['Harga Produk'].str.replace(\".\", \"\")"
   ]
  },
  {
   "cell_type": "code",
   "execution_count": 8,
   "metadata": {},
   "outputs": [],
   "source": [
    "df.columns = df.columns.str.replace(\" \", \"\")"
   ]
  },
  {
   "cell_type": "code",
   "execution_count": 10,
   "metadata": {},
   "outputs": [],
   "source": [
    "df['HargaProduk'] = df['HargaProduk'].astype(int)"
   ]
  },
  {
   "cell_type": "code",
   "execution_count": 11,
   "metadata": {},
   "outputs": [
    {
     "name": "stdout",
     "output_type": "stream",
     "text": [
      "<class 'pandas.core.frame.DataFrame'>\n",
      "RangeIndex: 5935 entries, 0 to 5934\n",
      "Data columns (total 5 columns):\n",
      " #   Column       Non-Null Count  Dtype \n",
      "---  ------       --------------  ----- \n",
      " 0   NamaProduk   5935 non-null   object\n",
      " 1   HargaProduk  5935 non-null   int64 \n",
      " 2   LokasiToko   5935 non-null   object\n",
      " 3   LinkProduk   5935 non-null   object\n",
      " 4   FotoProduk   4595 non-null   object\n",
      "dtypes: int64(1), object(4)\n",
      "memory usage: 232.0+ KB\n"
     ]
    }
   ],
   "source": [
    "df.info()"
   ]
  },
  {
   "cell_type": "code",
   "execution_count": 12,
   "metadata": {},
   "outputs": [],
   "source": [
    "df.to_csv('cleaned_data.csv', index=False)"
   ]
  }
 ],
 "metadata": {
  "kernelspec": {
   "display_name": "openai",
   "language": "python",
   "name": "python3"
  },
  "language_info": {
   "codemirror_mode": {
    "name": "ipython",
    "version": 3
   },
   "file_extension": ".py",
   "mimetype": "text/x-python",
   "name": "python",
   "nbconvert_exporter": "python",
   "pygments_lexer": "ipython3",
   "version": "3.8.20"
  }
 },
 "nbformat": 4,
 "nbformat_minor": 2
}
